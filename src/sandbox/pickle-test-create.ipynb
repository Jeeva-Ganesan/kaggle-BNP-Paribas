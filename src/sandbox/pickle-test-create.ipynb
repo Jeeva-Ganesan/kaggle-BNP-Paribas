{
 "cells": [
  {
   "cell_type": "code",
   "execution_count": 11,
   "metadata": {
    "collapsed": false
   },
   "outputs": [],
   "source": [
    "# pickle test\n",
    "import pickle\n",
    "import pandas as pd\n",
    "import os\n",
    "import zlib\n",
    "\n",
    "this_dir = os.getcwd()\n",
    "\n",
    "mydata = {'col1':[1,2,3],'col2':[4,5, 6], 'col3':['abc','def','ghi']}\n",
    "\n",
    "one_list = [1,2,3,4]\n",
    "\n",
    "X = 5.678\n",
    "\n"
   ]
  },
  {
   "cell_type": "code",
   "execution_count": 12,
   "metadata": {
    "collapsed": false
   },
   "outputs": [
    {
     "data": {
      "text/html": [
       "<div style=\"max-height:1000px;max-width:1500px;overflow:auto;\">\n",
       "<table border=\"1\" class=\"dataframe\">\n",
       "  <thead>\n",
       "    <tr style=\"text-align: right;\">\n",
       "      <th></th>\n",
       "      <th>col1</th>\n",
       "      <th>col2</th>\n",
       "      <th>col3</th>\n",
       "    </tr>\n",
       "  </thead>\n",
       "  <tbody>\n",
       "    <tr>\n",
       "      <th>0</th>\n",
       "      <td> 1</td>\n",
       "      <td> 4</td>\n",
       "      <td> abc</td>\n",
       "    </tr>\n",
       "    <tr>\n",
       "      <th>1</th>\n",
       "      <td> 2</td>\n",
       "      <td> 5</td>\n",
       "      <td> def</td>\n",
       "    </tr>\n",
       "    <tr>\n",
       "      <th>2</th>\n",
       "      <td> 3</td>\n",
       "      <td> 6</td>\n",
       "      <td> ghi</td>\n",
       "    </tr>\n",
       "  </tbody>\n",
       "</table>\n",
       "</div>"
      ],
      "text/plain": [
       "   col1  col2 col3\n",
       "0     1     4  abc\n",
       "1     2     5  def\n",
       "2     3     6  ghi"
      ]
     },
     "execution_count": 12,
     "metadata": {},
     "output_type": "execute_result"
    }
   ],
   "source": [
    "df = pd.DataFrame(mydata)\n",
    "df\n"
   ]
  },
  {
   "cell_type": "code",
   "execution_count": 13,
   "metadata": {
    "collapsed": false
   },
   "outputs": [
    {
     "data": {
      "text/plain": [
       "{'alist': [1, 2, 3, 4], 'mydata':    col1  col2 col3\n",
       " 0     1     4  abc\n",
       " 1     2     5  def\n",
       " 2     3     6  ghi, 'variable': 5.678}"
      ]
     },
     "execution_count": 13,
     "metadata": {},
     "output_type": "execute_result"
    }
   ],
   "source": [
    "pickle_jar = {}\n",
    "pickle_jar['mydata'] = df\n",
    "pickle_jar['alist'] = one_list\n",
    "pickle_jar['variable'] = X\n",
    "\n",
    "pickle_jar"
   ]
  },
  {
   "cell_type": "code",
   "execution_count": 14,
   "metadata": {
    "collapsed": false
   },
   "outputs": [],
   "source": [
    "with open(this_dir + '/mypickle.py', 'wb')  as pickle_file:\n",
    "    #pkle_string = zlib.compress(pickle.dumps(pickle_jar))\n",
    "    #pickle_file.write(pkle_string)\n",
    "    pickle_file.write(zlib.compress(pickle.dumps(pickle_jar)))\n",
    "    pickle_file.close()\n",
    "\n"
   ]
  },
  {
   "cell_type": "code",
   "execution_count": 14,
   "metadata": {
    "collapsed": false
   },
   "outputs": [],
   "source": []
  }
 ],
 "metadata": {
  "kernelspec": {
   "display_name": "Python 2",
   "language": "python",
   "name": "python2"
  },
  "language_info": {
   "codemirror_mode": {
    "name": "ipython",
    "version": 2
   },
   "file_extension": ".py",
   "mimetype": "text/x-python",
   "name": "python",
   "nbconvert_exporter": "python",
   "pygments_lexer": "ipython2",
   "version": "2.7.11"
  }
 },
 "nbformat": 4,
 "nbformat_minor": 0
}
