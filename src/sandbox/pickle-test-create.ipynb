{
 "metadata": {
  "name": "",
  "signature": "sha256:818b5e200c5c65d12764ae4294b7a10041ea5144d5f1a0d16ad1f4c423e2a2e4"
 },
 "nbformat": 3,
 "nbformat_minor": 0,
 "worksheets": [
  {
   "cells": [
    {
     "cell_type": "code",
     "collapsed": false,
     "input": [
      "# pickle test\n",
      "import pickle\n",
      "import pandas as pd\n",
      "import os\n",
      "import zlib\n",
      "\n",
      "this_dir = os.getcwd()\n",
      "\n",
      "mydata = {'col1':[1,2,3],'col2':[4,5, 6], 'col3':['abc','def','ghi']}\n",
      "\n",
      "one_list = [1,2,3,4]\n",
      "\n",
      "X = 5.678\n",
      "\n"
     ],
     "language": "python",
     "metadata": {},
     "outputs": [],
     "prompt_number": 11
    },
    {
     "cell_type": "code",
     "collapsed": false,
     "input": [
      "df = pd.DataFrame(mydata)\n",
      "df\n"
     ],
     "language": "python",
     "metadata": {},
     "outputs": [
      {
       "html": [
        "<div style=\"max-height:1000px;max-width:1500px;overflow:auto;\">\n",
        "<table border=\"1\" class=\"dataframe\">\n",
        "  <thead>\n",
        "    <tr style=\"text-align: right;\">\n",
        "      <th></th>\n",
        "      <th>col1</th>\n",
        "      <th>col2</th>\n",
        "      <th>col3</th>\n",
        "    </tr>\n",
        "  </thead>\n",
        "  <tbody>\n",
        "    <tr>\n",
        "      <th>0</th>\n",
        "      <td> 1</td>\n",
        "      <td> 4</td>\n",
        "      <td> abc</td>\n",
        "    </tr>\n",
        "    <tr>\n",
        "      <th>1</th>\n",
        "      <td> 2</td>\n",
        "      <td> 5</td>\n",
        "      <td> def</td>\n",
        "    </tr>\n",
        "    <tr>\n",
        "      <th>2</th>\n",
        "      <td> 3</td>\n",
        "      <td> 6</td>\n",
        "      <td> ghi</td>\n",
        "    </tr>\n",
        "  </tbody>\n",
        "</table>\n",
        "</div>"
       ],
       "metadata": {},
       "output_type": "pyout",
       "prompt_number": 12,
       "text": [
        "   col1  col2 col3\n",
        "0     1     4  abc\n",
        "1     2     5  def\n",
        "2     3     6  ghi"
       ]
      }
     ],
     "prompt_number": 12
    },
    {
     "cell_type": "code",
     "collapsed": false,
     "input": [
      "pickle_jar = {}\n",
      "pickle_jar['mydata'] = df\n",
      "pickle_jar['alist'] = one_list\n",
      "pickle_jar['variable'] = X\n",
      "\n",
      "pickle_jar"
     ],
     "language": "python",
     "metadata": {},
     "outputs": [
      {
       "metadata": {},
       "output_type": "pyout",
       "prompt_number": 13,
       "text": [
        "{'alist': [1, 2, 3, 4], 'mydata':    col1  col2 col3\n",
        " 0     1     4  abc\n",
        " 1     2     5  def\n",
        " 2     3     6  ghi, 'variable': 5.678}"
       ]
      }
     ],
     "prompt_number": 13
    },
    {
     "cell_type": "code",
     "collapsed": false,
     "input": [
      "with open(this_dir + '/mypickle.py', 'wb')  as pickle_file:\n",
      "    #pkle_string = zlib.compress(pickle.dumps(pickle_jar))\n",
      "    #pickle_file.write(pkle_string)\n",
      "    pickle_file.write(zlib.compress(pickle.dumps(pickle_jar)))\n",
      "    pickle_file.close()\n",
      "\n"
     ],
     "language": "python",
     "metadata": {},
     "outputs": [],
     "prompt_number": 14
    },
    {
     "cell_type": "code",
     "collapsed": false,
     "input": [],
     "language": "python",
     "metadata": {},
     "outputs": [],
     "prompt_number": 14
    }
   ],
   "metadata": {}
  }
 ]
}